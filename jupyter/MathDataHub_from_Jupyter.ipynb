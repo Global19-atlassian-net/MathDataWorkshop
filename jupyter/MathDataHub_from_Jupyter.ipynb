{
 "cells": [
  {
   "cell_type": "markdown",
   "metadata": {},
   "source": [
    "# Querying MathDataHub from the Jupyter Notebook\n",
    "_Odile Bénassy, Katja Bercic, Tom Wiesing, OpenDreamKit Project_"
   ]
  },
  {
   "cell_type": "markdown",
   "metadata": {},
   "source": [
    "## Requesting the collection"
   ]
  },
  {
   "cell_type": "code",
   "execution_count": null,
   "metadata": {},
   "outputs": [],
   "source": [
    "import requests, json"
   ]
  },
  {
   "cell_type": "code",
   "execution_count": null,
   "metadata": {},
   "outputs": [],
   "source": [
    "q = \"https://mdhalpha.mathhub.info/api/query/z4zFunctions/?properties=f1,f2&filter=f1%3Df2%26%26f2%3C1\"\n",
    "myjson = requests.get(q).content.decode()\n",
    "myjson"
   ]
  },
  {
   "cell_type": "markdown",
   "metadata": {},
   "source": [
    "## Displaying the results"
   ]
  },
  {
   "cell_type": "code",
   "execution_count": null,
   "metadata": {},
   "outputs": [],
   "source": [
    "data = json.JSONDecoder().decode(myjson)\n",
    "count = data[\"count\"]\n",
    "results = data['results']"
   ]
  },
  {
   "cell_type": "code",
   "execution_count": null,
   "metadata": {},
   "outputs": [],
   "source": [
    "from ipysheet import sheet, row\n",
    "mysheet = sheet(columns=3, rows=3)\n",
    "mysheet.column_headers = list(data['results'][0].keys())\n",
    "mysheet.row_headers = False\n",
    "row(0,list(data['results'][0].values()))\n",
    "row(1,list(data['results'][1].values()))\n",
    "row(2,list(data['results'][2].values()))\n",
    "mysheet"
   ]
  },
  {
   "cell_type": "markdown",
   "metadata": {},
   "source": [
    "### Some styling"
   ]
  },
  {
   "cell_type": "code",
   "execution_count": null,
   "metadata": {},
   "outputs": [],
   "source": [
    "%%html\n",
    "<style>.colHeader {color: purple; font-style: italic; font-size:120%}"
   ]
  },
  {
   "cell_type": "markdown",
   "metadata": {},
   "source": [
    "_NB: all cell values can further serve as parameters for calculations, representations .._"
   ]
  },
  {
   "cell_type": "markdown",
   "metadata": {},
   "source": [
    "## Small interface for building the query"
   ]
  },
  {
   "cell_type": "code",
   "execution_count": null,
   "metadata": {},
   "outputs": [],
   "source": [
    "from ipywidgets import *\n",
    "s1 = IntSlider(description=\"f(0)\", min=0, max=3)\n",
    "s2 = IntSlider(description=\"f(1)\", min=0, max=3)\n",
    "b = ToggleButton(description='Invertible?')\n",
    "HBox((s1,s2,b))"
   ]
  },
  {
   "cell_type": "code",
   "execution_count": null,
   "metadata": {},
   "outputs": [],
   "source": [
    "import urllib\n",
    "def send_query(i1=0, i2=0, inv=None):\n",
    "    q_tpl = \"https://mdhalpha.mathhub.info/api/query/z4zFunctions/?properties=f1,f2,invertible&filter=({})\"\n",
    "    filter = urllib.parse.quote(\"f1={}&&f2={}&&invertible={}\".format(i1, i2, inv))\n",
    "    return requests.get(q_tpl.format(filter)).content.decode()\n",
    "send_query(s1.value, s2.value, str(b.value).lower())"
   ]
  },
  {
   "cell_type": "markdown",
   "metadata": {},
   "source": [
    "## Requesting the schemas"
   ]
  },
  {
   "cell_type": "code",
   "execution_count": null,
   "metadata": {},
   "outputs": [],
   "source": [
    "q_schema = \"https://mdhalpha.mathhub.info/api/schema/codecs\"\n",
    "#q_schema = \"https://mdhalpha.mathhub.info/api/schema/codecs/ListAsArray_StandardInt\"\n",
    "myschema = requests.get(q_schema).content.decode()\n",
    "myschema"
   ]
  },
  {
   "cell_type": "markdown",
   "metadata": {},
   "source": [
    "## Requesting the collections"
   ]
  },
  {
   "cell_type": "code",
   "execution_count": null,
   "metadata": {},
   "outputs": [],
   "source": [
    "q_coll = \"https://mdhalpha.mathhub.info/api/schema/collections/z4zFunctions\"\n",
    "#q_schema = \"https://mdhalpha.mathhub.info/api/schema/codecs/ListAsArray_StandardInt\"\n",
    "mycoll = requests.get(q_coll).content.decode()\n",
    "mycoll"
   ]
  }
 ],
 "metadata": {
  "kernelspec": {
   "display_name": "Python 3",
   "language": "python",
   "name": "python3"
  },
  "language_info": {
   "codemirror_mode": {
    "name": "ipython",
    "version": 3
   },
   "file_extension": ".py",
   "mimetype": "text/x-python",
   "name": "python",
   "nbconvert_exporter": "python",
   "pygments_lexer": "ipython3",
   "version": "3.6.6"
  }
 },
 "nbformat": 4,
 "nbformat_minor": 2
}
